{
 "cells": [
  {
   "cell_type": "code",
   "execution_count": null,
   "id": "a2b764ab-4a27-41a5-9341-11ed0647e7dc",
   "metadata": {},
   "outputs": [],
   "source": [
    "🔹 编译运行方法\n",
    "在 fortran_ANN_example 目录下编译：\n",
    "运行：\n",
    "gfortran neural.f90 main_program1.f90 -o example1\n",
    "./example1 "
   ]
  },
  {
   "cell_type": "code",
   "execution_count": null,
   "id": "8da14cd8-70a8-46ee-82f0-24443ee37317",
   "metadata": {},
   "outputs": [],
   "source": [
    "ref:https://github.com/Lumorti/fortran-ann"
   ]
  },
  {
   "cell_type": "code",
   "execution_count": null,
   "id": "9bbc4ea4-6c21-41d7-846a-1c483bd54e8f",
   "metadata": {},
   "outputs": [],
   "source": []
  }
 ],
 "metadata": {
  "kernelspec": {
   "display_name": "Python 3 (ipykernel)",
   "language": "python",
   "name": "python3"
  },
  "language_info": {
   "codemirror_mode": {
    "name": "ipython",
    "version": 3
   },
   "file_extension": ".py",
   "mimetype": "text/x-python",
   "name": "python",
   "nbconvert_exporter": "python",
   "pygments_lexer": "ipython3",
   "version": "3.11.7"
  }
 },
 "nbformat": 4,
 "nbformat_minor": 5
}
